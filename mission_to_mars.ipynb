{
 "cells": [
  {
   "cell_type": "code",
   "execution_count": 1,
   "metadata": {},
   "outputs": [],
   "source": [
    "import pandas as pd\n",
    "from bs4 import BeautifulSoup\n",
    "import requests\n",
    "from splinter import Browser"
   ]
  },
  {
   "cell_type": "code",
   "execution_count": 7,
   "metadata": {},
   "outputs": [],
   "source": [
    "#Connect to chromedriver\n",
    "executable_path = {'executable_path': '/usr/local/bin/chromedriver'}\n",
    "browser = Browser('chrome', **executable_path, headless=False)"
   ]
  },
  {
   "cell_type": "markdown",
   "metadata": {},
   "source": [
    "# NASA Mars News"
   ]
  },
  {
   "cell_type": "code",
   "execution_count": 11,
   "metadata": {},
   "outputs": [],
   "source": [
    "url = 'https://mars.nasa.gov/news/'\n",
    "#Use requests module to retrieve the webpage\n",
    "response = requests.get(url)\n",
    "\n",
    "#Create BeautifulSoup object\n",
    "soup = BeautifulSoup(response.text, 'html.parser')"
   ]
  },
  {
   "cell_type": "code",
   "execution_count": 15,
   "metadata": {},
   "outputs": [
    {
     "name": "stdout",
     "output_type": "stream",
     "text": [
      "NASA Garners 7 Webby Award Nominations\n",
      "Nominees include four JPL projects: the solar system and climate websites, InSight social media, and a 360-degree Earth video. Public voting closes April 18, 2019.\n"
     ]
    }
   ],
   "source": [
    "#Retrieve article title and preview paragraph\n",
    "news_title = soup.find('div', class_=\"content_title\").find('a').text\n",
    "news_p = soup.find('div', class_=\"rollover_description_inner\").text\n",
    "\n",
    "print(news_title)\n",
    "print(news_p)"
   ]
  },
  {
   "cell_type": "code",
   "execution_count": null,
   "metadata": {},
   "outputs": [],
   "source": [
    "# url = 'https://mars.nasa.gov/news/'\n",
    "# browser.visit(url)\n",
    "# html = browser.html\n",
    "# soup = BeautifulSoup(html, 'html.parser')\n",
    "\n",
    "# results = soup.find_all('div', class_='list_text')\n",
    "\n",
    "# for result in results:\n",
    "#     title = result.find('div', class_='content_title').find('a').text\n",
    "#     p = result.find('div', class_='article_teaser_body').text\n",
    "#     print(p)"
   ]
  },
  {
   "cell_type": "markdown",
   "metadata": {},
   "source": [
    "# JPL Mars Space Images - Featured Image"
   ]
  },
  {
   "cell_type": "code",
   "execution_count": null,
   "metadata": {},
   "outputs": [],
   "source": [
    "#Open webpage using splinter\n",
    "url = 'https://www.jpl.nasa.gov/spaceimages/?search=&category=Mars'\n",
    "browser.visit(url)\n",
    "\n",
    "#HTML object\n",
    "html = browser.html\n",
    "\n",
    "#Parse HTML object with BeautifulSoup\n",
    "soup = BeautifulSoup(html, 'html.parser')\n",
    "#print(soup.prettify())\n"
   ]
  },
  {
   "cell_type": "code",
   "execution_count": null,
   "metadata": {},
   "outputs": [],
   "source": [
    "#Extract base url from website url\n",
    "base_url = (url.split('/spaceimages'))[0]\n",
    "\n",
    "#Retrieve route to detailed image description webpage\n",
    "description_page = soup.find_all('a', class_='button fancybox')[0]['data-link']\n",
    "\n",
    "#Concatenate route and base url\n",
    "description_url = base_url + description_page\n",
    "\n",
    "#Open new url using splinter\n",
    "browser.visit(description_url)\n",
    "\n",
    "#Create HTML object\n",
    "image = browser.html\n",
    "\n",
    "#Parse HTML object with BeautifulSoup\n",
    "soup = BeautifulSoup(image, 'html.parser')\n",
    "#print(soup.prettify())\n"
   ]
  },
  {
   "cell_type": "code",
   "execution_count": null,
   "metadata": {},
   "outputs": [],
   "source": [
    "#Retrieve route to full-size image \n",
    "img = soup.find('img', class_=\"main_image\")['src']\n",
    "\n",
    "#Concatenate route with base url\n",
    "featured_image_url = base_url + img\n",
    "featured_image_url"
   ]
  },
  {
   "cell_type": "markdown",
   "metadata": {},
   "source": [
    "# Mars Weather"
   ]
  },
  {
   "cell_type": "code",
   "execution_count": null,
   "metadata": {},
   "outputs": [],
   "source": [
    "url = 'https://twitter.com/marswxreport?lang=en'\n",
    "# Open twitter webpage using splinter\n",
    "browser.visit(url)\n",
    "\n",
    "#HTML Object\n",
    "html = browser.html\n",
    "\n",
    "#Parse HTML object with BeautifulSoup\n",
    "soup = BeautifulSoup(html, \"html.parser\")\n",
    "\n",
    "#Retrieve all elements with tweet information \n",
    "weather_tweets = soup.find_all('p', class_='TweetTextSize TweetTextSize--normal js-tweet-text tweet-text')\n",
    "\n",
    "for tweet in weather_tweets:\n",
    "    \n",
    "    #Assign tweet info to variable\n",
    "    mars_weather = tweet.text\n",
    "    \n",
    "    # If tweet contains words sol and pressure, print the tweet\n",
    "    if \"sol\" and \"pressure\" in mars_weather:\n",
    "        print(mars_weather)\n",
    "        break\n",
    "    else:\n",
    "        pass"
   ]
  },
  {
   "cell_type": "markdown",
   "metadata": {},
   "source": [
    "# Mars Facts"
   ]
  },
  {
   "cell_type": "code",
   "execution_count": null,
   "metadata": {},
   "outputs": [],
   "source": [
    "url = 'https://space-facts.com/mars/'\n",
    "#Scrape table data from Mars webpage\n",
    "tables = pd.read_html(url)\n",
    "tables"
   ]
  },
  {
   "cell_type": "code",
   "execution_count": null,
   "metadata": {},
   "outputs": [],
   "source": [
    "#Index the first dataframe object\n",
    "df = tables[0]\n",
    "\n",
    "#Set column names\n",
    "df.columns = ['Description','Value']\n",
    "\n",
    "#Set Description column as the index\n",
    "df.set_index('Description', inplace=True)\n",
    "df"
   ]
  },
  {
   "cell_type": "code",
   "execution_count": null,
   "metadata": {},
   "outputs": [],
   "source": [
    "#Convert table into HTML table\n",
    "html_table = df.to_html()\n",
    "html_table"
   ]
  },
  {
   "cell_type": "code",
   "execution_count": null,
   "metadata": {},
   "outputs": [],
   "source": [
    "#Remove unwanted new lines\n",
    "html_table.replace('\\n', '')"
   ]
  },
  {
   "cell_type": "markdown",
   "metadata": {},
   "source": [
    "# Mars Hemispheres"
   ]
  },
  {
   "cell_type": "code",
   "execution_count": null,
   "metadata": {},
   "outputs": [],
   "source": [
    "url = 'https://astrogeology.usgs.gov/search/results?q=hemisphere+enhanced&k1=target&v1=Mars'\n",
    "#Open webpage using splinter\n",
    "browser.visit(url)\n",
    "\n",
    "#HTML object\n",
    "html = browser.html\n",
    "\n",
    "#Parse HTML object with BeautifulSoup\n",
    "soup = BeautifulSoup(html, 'html.parser')\n",
    "#print(soup.prettify())"
   ]
  },
  {
   "cell_type": "code",
   "execution_count": null,
   "metadata": {},
   "outputs": [],
   "source": [
    "#Create list for image urls\n",
    "hemisphere_image_urls = []\n",
    "\n",
    "#Extract base url from webpage url\n",
    "base_url= (url.split('/search'))[0]\n",
    "\n",
    "\n",
    "#Retrieve all items with hemisphere info\n",
    "hemispheres = soup.find_all('div', class_='description')\n",
    "\n",
    "for hemisphere in hemispheres:\n",
    "    \n",
    "    #Create an empty dictionary\n",
    "    hemisphere_info = {}\n",
    "    \n",
    "    #Retrieve hemisphere title\n",
    "    hem_title = hemisphere.find('h3').text\n",
    "    \n",
    "    #Add only hemisphere title into dictionary by splitting text \n",
    "    hemisphere_info['title'] = hem_title.split(' Enhanced')[0]\n",
    "    \n",
    "    #Retrieve route to detailed hemisphere webpage\n",
    "    hem_route = hemisphere.find('a', class_='itemLink product-item')['href']\n",
    "    \n",
    "    #Concatenate base url with route\n",
    "    hemisphere_link = base_url + hem_route\n",
    "    \n",
    "    #Open new url with splinter\n",
    "    browser.visit(hemisphere_link)\n",
    "    \n",
    "    #HTML object\n",
    "    html = browser.html\n",
    "    \n",
    "    #Parse HTML object with BeautifulSoup\n",
    "    soup = BeautifulSoup(html, 'html.parser')\n",
    "    \n",
    "    #Retrieve route to full resolution image\n",
    "    image_url = soup.find('div', class_='downloads').find('ul').find('li').find('a')['href']\n",
    "    \n",
    "    #Add image url into dictionary\n",
    "    hemisphere_info['img_url'] = image_url\n",
    "    \n",
    "    #Append dictionary to list\n",
    "    hemisphere_image_urls.append(hemisphere_info)"
   ]
  },
  {
   "cell_type": "code",
   "execution_count": null,
   "metadata": {},
   "outputs": [],
   "source": [
    "hemisphere_image_urls"
   ]
  }
 ],
 "metadata": {
  "kernelspec": {
   "display_name": "Python 3",
   "language": "python",
   "name": "python3"
  },
  "language_info": {
   "codemirror_mode": {
    "name": "ipython",
    "version": 3
   },
   "file_extension": ".py",
   "mimetype": "text/x-python",
   "name": "python",
   "nbconvert_exporter": "python",
   "pygments_lexer": "ipython3",
   "version": "3.6.7"
  }
 },
 "nbformat": 4,
 "nbformat_minor": 2
}
